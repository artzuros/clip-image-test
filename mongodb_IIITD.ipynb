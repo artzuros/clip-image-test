{
 "cells": [
  {
   "cell_type": "code",
   "execution_count": 1,
   "metadata": {},
   "outputs": [],
   "source": [
    "import os\n",
    "from pymongo import MongoClient\n",
    "\n",
    "def store_image_paths_in_mongodb(image_folder, mongodb_uri, db_name, collection_name):\n",
    "    client = MongoClient(mongodb_uri)\n",
    "    db = client[db_name]\n",
    "    collection = db[collection_name]\n",
    "\n",
    "    image_documents = []\n",
    "    for root, _, files in os.walk(image_folder):\n",
    "        for file in files:\n",
    "            if file.lower().endswith(('.png', '.jpg', '.jpeg', '.bmp', '.gif')):\n",
    "                image_path = os.path.join(root, file)\n",
    "                image_documents.append({\"image_path\": image_path})\n",
    "\n",
    "    if image_documents:\n",
    "        collection.insert_many(image_documents)\n",
    "        print(f\"Inserted {len(image_documents)} image paths into MongoDB.\")\n",
    "    else:\n",
    "        print(\"No images found to insert into MongoDB.\")"
   ]
  },
  {
   "cell_type": "code",
   "execution_count": 4,
   "metadata": {},
   "outputs": [
    {
     "name": "stdout",
     "output_type": "stream",
     "text": [
      "Inserted 100 image paths into MongoDB.\n"
     ]
    }
   ],
   "source": [
    "store_image_paths_in_mongodb('D:/C_Drive/Desktop/CS/clip-image-test/test', 'mongodb://localhost:27017/', 'image_db', 'images')"
   ]
  },
  {
   "cell_type": "code",
   "execution_count": null,
   "metadata": {},
   "outputs": [],
   "source": []
  }
 ],
 "metadata": {
  "kernelspec": {
   "display_name": "clip-image",
   "language": "python",
   "name": "python3"
  },
  "language_info": {
   "codemirror_mode": {
    "name": "ipython",
    "version": 3
   },
   "file_extension": ".py",
   "mimetype": "text/x-python",
   "name": "python",
   "nbconvert_exporter": "python",
   "pygments_lexer": "ipython3",
   "version": "3.12.4"
  }
 },
 "nbformat": 4,
 "nbformat_minor": 2
}
